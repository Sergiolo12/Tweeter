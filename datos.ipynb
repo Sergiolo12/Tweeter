{
 "cells": [
  {
   "cell_type": "code",
   "execution_count": null,
   "metadata": {},
   "outputs": [],
   "source": [
    "import tweepy\n",
    "import pandas as pd\n",
    "from textblob import TextBlob\n",
    "\n",
    "# Función para analizar sentimiento\n",
    "def analizar_sentimiento(texto):\n",
    "    analisis = TextBlob(texto)\n",
    "    polaridad = analisis.sentiment.polarity\n",
    "    if polaridad > 0.3:\n",
    "        sentimiento = \"Positivo 😊\"\n",
    "    elif polaridad < 0:\n",
    "        sentimiento = \"Negativo 😠\"\n",
    "    else:\n",
    "        sentimiento = \"Neutral 😐\"\n",
    "    return sentimiento, polaridad\n",
    "\n",
    "# Configuración del Bearer Token (API v2)\n",
    "Bearer_Token = \"AAAAAAAAAAAAAAAAAAAAADJ8zgEAAAAAyPxh6c6zjNVgUX%2B%2BvfRHsbmeouM%3D3BrnXRrDmOhEf0odmx1yyi5w7Wh3zlDFeokRwm8hxIYESWKVN7\" # Asegúrate de que este token sea el correcto\n",
    "\n",
    "# Autenticación con la API de Twitter v2 usando Bearer Token\n",
    "client = tweepy.Client(bearer_token=Bearer_Token)\n",
    "\n",
    "# Búsqueda de tweets recientes sobre \"Julián Alvarez\" en inglés (máximo 10 tweets)\n",
    "query = \"Julián Alvarez -is:retweet lang:en\"\n",
    "try:\n",
    "    tweets = client.search_recent_tweets(query=query, max_results=10, tweet_fields=[\"created_at\", \"author_id\", \"text\"])\n",
    "\n",
    "    # Lista para almacenar los resultados\n",
    "    tweets_data = []\n",
    "\n",
    "    if tweets.data:\n",
    "        for tweet in tweets.data:\n",
    "            texto = tweet.text\n",
    "            fecha = tweet.created_at\n",
    "            usuario = tweet.author_id\n",
    "            sentimiento, polaridad = analizar_sentimiento(texto)\n",
    "            print(f\"Texto: {texto}\\nFecha: {fecha}\\nUsuario: {usuario}\\nSentimiento: {sentimiento}\\nPolaridad: {polaridad}\\n\")\n",
    "            \n",
    "            # Guardar en lista\n",
    "            tweets_data.append([texto, fecha, usuario, sentimiento, polaridad])\n",
    "\n",
    "        # Guardar en archivo CSV\n",
    "        df_tweets = pd.DataFrame(tweets_data, columns=[\"Texto\", \"Fecha\", \"Usuario\", \"Sentimiento\", \"Polaridad\"])\n",
    "        df_tweets.to_csv(\"tweets_Julián_Alvarez.csv\", index=False, encoding=\"utf-8\")\n",
    "\n",
    "        print(\"✅ Tweets guardados en tweets_Julián_Alvarez.csv\")\n",
    "    else:\n",
    "        print(\"❌ No se encontraron tweets sobre Julián Alvarez en inglés\")\n",
    "\n",
    "except tweepy.TweepyException as e:\n",
    "    print(f\"❌ Error: {e}\")\n"
   ]
  }
 ],
 "metadata": {
  "kernelspec": {
   "display_name": "base",
   "language": "python",
   "name": "python3"
  },
  "language_info": {
   "codemirror_mode": {
    "name": "ipython",
    "version": 3
   },
   "file_extension": ".py",
   "mimetype": "text/x-python",
   "name": "python",
   "nbconvert_exporter": "python",
   "pygments_lexer": "ipython3",
   "version": "3.12.7"
  }
 },
 "nbformat": 4,
 "nbformat_minor": 2
}
